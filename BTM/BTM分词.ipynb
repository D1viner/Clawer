{
 "cells": [
  {
   "cell_type": "markdown",
   "id": "aa30feb6",
   "metadata": {},
   "source": [
    "BTM介绍：https://zhuanlan.zhihu.com/p/111545954 <br>\n",
    "https://www.zhihu.com/question/298517764 <br>\n",
    "https://blog.csdn.net/windows2/article/details/16812363 <br>\n",
    "代码解析：https://zhuanlan.zhihu.com/p/111722915 <br>\n",
    "github xiaohuiyan(提出者) : https://gitcode.net/mirrors/xiaohuiyan/BTM?utm_source=csdn_github_accelerator <br>\n",
    "github galesour(代码解析 注释版): https://github.com/galesour/BTM <br>\n",
    "github(源代码): https://hub.fastgit.xyz/jasperyang/BTMpy"
   ]
  },
  {
   "cell_type": "markdown",
   "id": "927b5fab",
   "metadata": {},
   "source": [
    "LDA计算公式：https://www.cnblogs.com/bydream/p/6844499.html <br>\n",
    "困惑度函数：https://blog.csdn.net/xxidaojia/article/details/102702492 <br>\n",
    "https://zhuanlan.zhihu.com/p/114432097"
   ]
  },
  {
   "cell_type": "code",
   "execution_count": 18,
   "id": "d62e5f40",
   "metadata": {},
   "outputs": [],
   "source": [
    "import jieba\n",
    "import os\n",
    "import re\n",
    "import numpy as np\n",
    "import jieba.posseg as psg\n",
    "import networkx as nx\n",
    "import pandas as pd\n",
    "import math\n",
    "os.chdir(\"D:/python_ex/word_pmi\")  #BTM"
   ]
  },
  {
   "cell_type": "code",
   "execution_count": 38,
   "id": "9f27d618",
   "metadata": {},
   "outputs": [],
   "source": [
    "f = open('data/data.txt',encoding='utf-8')\n",
    "data = f.readlines()\n",
    "f.close()"
   ]
  },
  {
   "cell_type": "code",
   "execution_count": 40,
   "id": "1356f0fc",
   "metadata": {},
   "outputs": [],
   "source": [
    "def get_stop_dict(file):\n",
    "    content = open(file,encoding=\"utf-8\")\n",
    "    word_list = []\n",
    "    for c in content:\n",
    "        c = re.sub('\\n|\\r','',c)\n",
    "        word_list.append(c)\n",
    "    return word_list"
   ]
  },
  {
   "cell_type": "code",
   "execution_count": 41,
   "id": "c1388ad6",
   "metadata": {},
   "outputs": [],
   "source": [
    "stop_file = \"./stop_dic/stopwords.txt\"\n",
    "stop_words = get_stop_dict(stop_file)"
   ]
  },
  {
   "cell_type": "code",
   "execution_count": 50,
   "id": "1b45da6c",
   "metadata": {},
   "outputs": [],
   "source": [
    "f = open('data/data_cutted.txt','w',encoding='utf-8')\n",
    "for t in data:\n",
    "    t = re.sub('\\n','',t)\n",
    "    t_seg = psg.cut(t)\n",
    "    t_seg_f = []\n",
    "    #flag_list = ['n','nz','vn','v']\n",
    "    for word_flag in t_seg:\n",
    "        if len(word_flag.word)>1 and word_flag.word not in stop_words:\n",
    "            t_seg_f.append(word_flag.word)\n",
    "    if len(t_seg_f)>0:\n",
    "        t_seg_f = ' '.join(t_seg_f)\n",
    "        f.write(t_seg_f+'\\n')\n",
    "f.close()"
   ]
  },
  {
   "cell_type": "code",
   "execution_count": null,
   "id": "31b8351e",
   "metadata": {},
   "outputs": [],
   "source": [
    "#关于弹幕类的，网络用语很多。同义词、停用词、\n",
    "#关于采样可能有一些变化"
   ]
  },
  {
   "cell_type": "code",
   "execution_count": 1,
   "id": "5c4523e0",
   "metadata": {},
   "outputs": [],
   "source": [
    "# #困惑度函数：https://blog.csdn.net/xxidaojia/article/details/102702492\n",
    "# import math\n",
    "# def perplexity(ldamodel, testset, dictionary, size_dictionary, num_topics):\n",
    "#     print('the info of this ldamodel: \\n')\n",
    "#     print('num of topics: %s' % num_topics))\n",
    "#     prep = 0.0\n",
    "#     prob_doc_sum = 0.0\n",
    "#     topic_word_list = [] \n",
    "#     for topic_id in range(num_topics):\n",
    "#         topic_word = ldamodel.show_topic(topic_id, size_dictionary)\n",
    "#         dic = {}\n",
    "#         for word, probability in topic_word:\n",
    "#             dic[word] = probability\n",
    "#         topic_word_list.append(dic)  \n",
    "#     doc_topics_ist = []  \n",
    "#     for doc in testset:\n",
    "#         doc_topics_ist.append(ldamodel.get_document_topics(doc, minimum_probability=0))\n",
    "#     testset_word_num = 0\n",
    "#     for i in range(len(testset)):\n",
    "#         prob_doc = 0.0  # the probablity of the doc\n",
    "#         doc = testset[i]\n",
    "#         doc_word_num = 0  \n",
    "#         for word_id, num in dict(doc).items():\n",
    "#             prob_word = 0.0  \n",
    "#             doc_word_num += num\n",
    "#             word = dictionary[word_id]\n",
    "#             for topic_id in range(num_topics):\n",
    "#                 # cal p(w) : p(w) = sumz(p(z)*p(w|z))\n",
    "#                 prob_topic = doc_topics_ist[i][topic_id][1]\n",
    "#                 prob_topic_word = topic_word_list[topic_id][word]\n",
    "#                 prob_word += prob_topic * prob_topic_word\n",
    "#             prob_doc += math.log(prob_word)  # p(d) = sum(log(p(w)))\n",
    "#         prob_doc_sum += prob_doc\n",
    "#         testset_word_num += doc_word_num\n",
    "#     prep = math.exp(-prob_doc_sum / testset_word_num)  # perplexity = exp(-sum(p(d)/sum(Nd))\n",
    "#     print(\"模型困惑度的值为 : %s\" % prep)\n",
    "#     return prep"
   ]
  },
  {
   "cell_type": "code",
   "execution_count": null,
   "id": "ec258243",
   "metadata": {},
   "outputs": [],
   "source": []
  }
 ],
 "metadata": {
  "kernelspec": {
   "display_name": "Python 3",
   "language": "python",
   "name": "python3"
  },
  "language_info": {
   "codemirror_mode": {
    "name": "ipython",
    "version": 3
   },
   "file_extension": ".py",
   "mimetype": "text/x-python",
   "name": "python",
   "nbconvert_exporter": "python",
   "pygments_lexer": "ipython3",
   "version": "3.8.8"
  },
  "toc": {
   "base_numbering": 1,
   "nav_menu": {},
   "number_sections": true,
   "sideBar": true,
   "skip_h1_title": false,
   "title_cell": "Table of Contents",
   "title_sidebar": "Contents",
   "toc_cell": false,
   "toc_position": {},
   "toc_section_display": true,
   "toc_window_display": false
  }
 },
 "nbformat": 4,
 "nbformat_minor": 5
}
